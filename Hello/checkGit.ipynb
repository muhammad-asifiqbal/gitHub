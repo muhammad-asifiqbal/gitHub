{
 "cells": [
  {
   "cell_type": "markdown",
   "metadata": {},
   "source": []
  },
  {
   "cell_type": "markdown",
   "metadata": {},
   "source": [
    "This is my first Program"
   ]
  },
  {
   "cell_type": "code",
   "execution_count": 5,
   "metadata": {},
   "outputs": [
    {
     "name": "stdout",
     "output_type": "stream",
     "text": [
      "Asif_Iqbal\n",
      "Engineer\n",
      "Asif7771@gmail.com\n"
     ]
    }
   ],
   "source": [
    "Name = 'Asif_Iqbal'\n",
    "Profession = \"Engineer\"\n",
    "Email = \"Asif7771@gmail.com\"\n",
    "\n",
    "print(Name)\n",
    "print(Profession)\n",
    "print(Email)\n"
   ]
  },
  {
   "cell_type": "markdown",
   "metadata": {},
   "source": []
  }
 ],
 "metadata": {
  "kernelspec": {
   "display_name": "Python 3.8.10 ('jupyterenv': venv)",
   "language": "python",
   "name": "python3"
  },
  "language_info": {
   "codemirror_mode": {
    "name": "ipython",
    "version": 3
   },
   "file_extension": ".py",
   "mimetype": "text/x-python",
   "name": "python",
   "nbconvert_exporter": "python",
   "pygments_lexer": "ipython3",
   "version": "3.8.10"
  },
  "orig_nbformat": 4,
  "vscode": {
   "interpreter": {
    "hash": "422c788b579e072ea1ded10eb3d2b2ffaf964e6ab7cfa46a1e5c8a100f547b8d"
   }
  }
 },
 "nbformat": 4,
 "nbformat_minor": 2
}
