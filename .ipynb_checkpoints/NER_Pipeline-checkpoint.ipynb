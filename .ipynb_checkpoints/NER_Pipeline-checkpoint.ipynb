{
 "cells": [
  {
   "cell_type": "code",
   "execution_count": 1,
   "id": "199bbc81",
   "metadata": {},
   "outputs": [],
   "source": [
    "import sparknlp\n",
    "from sparknlp.base import *\n",
    "from sparknlp.annotator import *"
   ]
  },
  {
   "cell_type": "code",
   "execution_count": 2,
   "id": "309a2af5",
   "metadata": {},
   "outputs": [
    {
     "name": "stderr",
     "output_type": "stream",
     "text": [
      "22/04/25 16:30:10 WARN Utils: Your hostname, hp-HP-Notebook resolves to a loopback address: 127.0.1.1; using 192.168.1.185 instead (on interface wlp13s0)\n",
      "22/04/25 16:30:10 WARN Utils: Set SPARK_LOCAL_IP if you need to bind to another address\n"
     ]
    },
    {
     "name": "stdout",
     "output_type": "stream",
     "text": [
      ":: loading settings :: url = jar:file:/home/hp/.local/lib/python3.8/site-packages/pyspark/jars/ivy-2.4.0.jar!/org/apache/ivy/core/settings/ivysettings.xml\n"
     ]
    },
    {
     "name": "stderr",
     "output_type": "stream",
     "text": [
      "Ivy Default Cache set to: /home/hp/.ivy2/cache\n",
      "The jars for the packages stored in: /home/hp/.ivy2/jars\n",
      "com.johnsnowlabs.nlp#spark-nlp_2.12 added as a dependency\n",
      ":: resolving dependencies :: org.apache.spark#spark-submit-parent-55633071-f83e-4c41-abc0-461f31596231;1.0\n",
      "\tconfs: [default]\n",
      "\tfound com.johnsnowlabs.nlp#spark-nlp_2.12;3.4.2 in central\n",
      "\tfound com.typesafe#config;1.4.1 in central\n",
      "\tfound org.rocksdb#rocksdbjni;6.5.3 in central\n",
      "\tfound com.amazonaws#aws-java-sdk-bundle;1.11.603 in central\n",
      "\tfound com.github.universal-automata#liblevenshtein;3.0.0 in central\n",
      "\tfound com.google.code.findbugs#annotations;3.0.1 in central\n",
      "\tfound net.jcip#jcip-annotations;1.0 in central\n",
      "\tfound com.google.code.findbugs#jsr305;3.0.1 in central\n",
      "\tfound com.google.protobuf#protobuf-java-util;3.0.0-beta-3 in central\n",
      "\tfound com.google.protobuf#protobuf-java;3.0.0-beta-3 in central\n",
      "\tfound com.google.code.gson#gson;2.3 in central\n",
      "\tfound it.unimi.dsi#fastutil;7.0.12 in central\n",
      "\tfound org.projectlombok#lombok;1.16.8 in central\n",
      "\tfound org.slf4j#slf4j-api;1.7.21 in central\n",
      "\tfound com.navigamez#greex;1.0 in central\n",
      "\tfound dk.brics.automaton#automaton;1.11-8 in central\n",
      "\tfound org.json4s#json4s-ext_2.12;3.5.3 in central\n",
      "\tfound joda-time#joda-time;2.9.5 in central\n",
      "\tfound org.joda#joda-convert;1.8.1 in central\n",
      "\tfound com.johnsnowlabs.nlp#tensorflow-cpu_2.12;0.3.3 in central\n",
      "\tfound net.sf.trove4j#trove4j;3.0.3 in central\n",
      ":: resolution report :: resolve 1116ms :: artifacts dl 56ms\n",
      "\t:: modules in use:\n",
      "\tcom.amazonaws#aws-java-sdk-bundle;1.11.603 from central in [default]\n",
      "\tcom.github.universal-automata#liblevenshtein;3.0.0 from central in [default]\n",
      "\tcom.google.code.findbugs#annotations;3.0.1 from central in [default]\n",
      "\tcom.google.code.findbugs#jsr305;3.0.1 from central in [default]\n",
      "\tcom.google.code.gson#gson;2.3 from central in [default]\n",
      "\tcom.google.protobuf#protobuf-java;3.0.0-beta-3 from central in [default]\n",
      "\tcom.google.protobuf#protobuf-java-util;3.0.0-beta-3 from central in [default]\n",
      "\tcom.johnsnowlabs.nlp#spark-nlp_2.12;3.4.2 from central in [default]\n",
      "\tcom.johnsnowlabs.nlp#tensorflow-cpu_2.12;0.3.3 from central in [default]\n",
      "\tcom.navigamez#greex;1.0 from central in [default]\n",
      "\tcom.typesafe#config;1.4.1 from central in [default]\n",
      "\tdk.brics.automaton#automaton;1.11-8 from central in [default]\n",
      "\tit.unimi.dsi#fastutil;7.0.12 from central in [default]\n",
      "\tjoda-time#joda-time;2.9.5 from central in [default]\n",
      "\tnet.jcip#jcip-annotations;1.0 from central in [default]\n",
      "\tnet.sf.trove4j#trove4j;3.0.3 from central in [default]\n",
      "\torg.joda#joda-convert;1.8.1 from central in [default]\n",
      "\torg.json4s#json4s-ext_2.12;3.5.3 from central in [default]\n",
      "\torg.projectlombok#lombok;1.16.8 from central in [default]\n",
      "\torg.rocksdb#rocksdbjni;6.5.3 from central in [default]\n",
      "\torg.slf4j#slf4j-api;1.7.21 from central in [default]\n",
      "\t---------------------------------------------------------------------\n",
      "\t|                  |            modules            ||   artifacts   |\n",
      "\t|       conf       | number| search|dwnlded|evicted|| number|dwnlded|\n",
      "\t---------------------------------------------------------------------\n",
      "\t|      default     |   21  |   0   |   0   |   0   ||   21  |   0   |\n",
      "\t---------------------------------------------------------------------\n",
      ":: retrieving :: org.apache.spark#spark-submit-parent-55633071-f83e-4c41-abc0-461f31596231\n",
      "\tconfs: [default]\n",
      "\t0 artifacts copied, 21 already retrieved (0kB/27ms)\n",
      "22/04/25 16:30:13 WARN NativeCodeLoader: Unable to load native-hadoop library for your platform... using builtin-java classes where applicable\n",
      "Using Spark's default log4j profile: org/apache/spark/log4j-defaults.properties\n",
      "Setting default log level to \"WARN\".\n",
      "To adjust logging level use sc.setLogLevel(newLevel). For SparkR, use setLogLevel(newLevel).\n"
     ]
    }
   ],
   "source": [
    "spark = sparknlp.start()"
   ]
  },
  {
   "cell_type": "code",
   "execution_count": 3,
   "id": "80516385",
   "metadata": {},
   "outputs": [],
   "source": [
    "data = spark.createDataFrame([['OpenAIMP is good American company. It focuses on innovation,career growth . Asif is working here']]).toDF('text')\n"
   ]
  },
  {
   "cell_type": "code",
   "execution_count": 4,
   "id": "6aa833dc",
   "metadata": {},
   "outputs": [
    {
     "name": "stderr",
     "output_type": "stream",
     "text": [
      "                                                                                \r"
     ]
    },
    {
     "name": "stdout",
     "output_type": "stream",
     "text": [
      "+------------------------------------------------------------------------------------------------+\n",
      "|text                                                                                            |\n",
      "+------------------------------------------------------------------------------------------------+\n",
      "|OpenAIMP is good American company. It focuses on innovation,career growth . Asif is working here|\n",
      "+------------------------------------------------------------------------------------------------+\n",
      "\n"
     ]
    }
   ],
   "source": [
    "data.show(truncate=False)"
   ]
  },
  {
   "cell_type": "markdown",
   "id": "7de028b9",
   "metadata": {},
   "source": [
    "Step = 1:\n",
    "Data Assembler read string column and create an innotation column.It controls cleaning up of source text and handling of special characters and new lines through 'cleanupMode'"
   ]
  },
  {
   "cell_type": "code",
   "execution_count": 5,
   "id": "5aa36175",
   "metadata": {},
   "outputs": [],
   "source": [
    "document = DocumentAssembler().setInputCol('text').setOutputCol('document').setCleanupMode('shrink')"
   ]
  },
  {
   "cell_type": "markdown",
   "id": "9b18d9f0",
   "metadata": {},
   "source": [
    "Step = 2:\n",
    "Sentence Detector:Splits sentences in meaningful ways.It explode sentences improves parallelism in large text concentration"
   ]
  },
  {
   "cell_type": "code",
   "execution_count": 6,
   "id": "5a98ead9",
   "metadata": {},
   "outputs": [],
   "source": [
    "sentence = SentenceDetector().setInputCols('document').setOutputCol('sentence')"
   ]
  },
  {
   "cell_type": "code",
   "execution_count": 7,
   "id": "fce268c2",
   "metadata": {},
   "outputs": [
    {
     "data": {
      "text/plain": [
       "SentenceDetector_d70659ee8595"
      ]
     },
     "execution_count": 7,
     "metadata": {},
     "output_type": "execute_result"
    }
   ],
   "source": [
    "sentence.setExplodeSentences(True)"
   ]
  },
  {
   "cell_type": "markdown",
   "id": "d2fdf679",
   "metadata": {},
   "source": [
    "Step = 3:\n",
    "Tokenizer: Splits words in meaningful representation for later NLP"
   ]
  },
  {
   "cell_type": "code",
   "execution_count": 8,
   "id": "fc80c855",
   "metadata": {},
   "outputs": [],
   "source": [
    "tokenizer = Tokenizer().setInputCols('sentence').setOutputCol('token')"
   ]
  },
  {
   "cell_type": "code",
   "execution_count": 9,
   "id": "1499530e",
   "metadata": {},
   "outputs": [
    {
     "data": {
      "text/plain": [
       "Tokenizer_cfc527b8a573"
      ]
     },
     "execution_count": 9,
     "metadata": {},
     "output_type": "execute_result"
    }
   ],
   "source": [
    "tokenizer.setExceptions(['e-mail'])"
   ]
  },
  {
   "cell_type": "markdown",
   "id": "eb889525",
   "metadata": {},
   "source": [
    "Step = 4:\n",
    "Spell checker:SymmetricDetele or NorvigSweeting:Fix token type"
   ]
  },
  {
   "cell_type": "code",
   "execution_count": null,
   "id": "2ec1e5e6",
   "metadata": {},
   "outputs": [
    {
     "name": "stdout",
     "output_type": "stream",
     "text": [
      "spellcheck_norvig download started this may take some time.\n",
      "Approximate size to download 4.2 MB\n",
      "[ / ]spellcheck_norvig download started this may take some time.\n",
      "Approximate size to download 4.2 MB\n",
      "[ / ]"
     ]
    }
   ],
   "source": [
    "checker = NorvigSweetingModel.pretrained().setInputCols(['token']).setOutputCol('checked')"
   ]
  },
  {
   "cell_type": "markdown",
   "id": "3cbda223",
   "metadata": {},
   "source": [
    "Embeddings :Bert or WordEmbedding(glove,genism)-Vector Representation of tokens"
   ]
  },
  {
   "cell_type": "code",
   "execution_count": null,
   "id": "ffce0e15",
   "metadata": {},
   "outputs": [],
   "source": [
    "embeddings = WordEmbeddingsModel.pretrained().setInputCols(['sentence','checked']).setOutputCol('embeddings')"
   ]
  },
  {
   "cell_type": "markdown",
   "id": "019c8576",
   "metadata": {},
   "source": [
    "Named Identity Recognition: \n",
    "Identify entities in text(Person,Comapany,Location etc)"
   ]
  },
  {
   "cell_type": "code",
   "execution_count": null,
   "id": "7449f4cc",
   "metadata": {},
   "outputs": [],
   "source": [
    "ner = NerDLModel.pretrained().setInputCols(['sentence', 'checked','embeddings']).setOutputCol('ner')"
   ]
  },
  {
   "cell_type": "markdown",
   "id": "58346d33",
   "metadata": {},
   "source": [
    "Chunk builder,Ner Converter : \n",
    "Reads NER input and build chunks based on labelled entities"
   ]
  },
  {
   "cell_type": "code",
   "execution_count": null,
   "id": "866bc9b6",
   "metadata": {},
   "outputs": [],
   "source": [
    "converter = NerConverter().setInputCols(['sentence','checked','ner']).setOutputCol('chunk')"
   ]
  },
  {
   "cell_type": "code",
   "execution_count": null,
   "id": "523517f2",
   "metadata": {},
   "outputs": [],
   "source": [
    "from pyspark.ml import Pipeline"
   ]
  },
  {
   "cell_type": "code",
   "execution_count": null,
   "id": "b51414b5",
   "metadata": {},
   "outputs": [],
   "source": [
    "pipeline = Pipeline().setStages([document, sentence, tokenizer,checker,embeddings , ner , converter])"
   ]
  },
  {
   "cell_type": "markdown",
   "id": "09488cc0",
   "metadata": {},
   "source": [
    "Pipeline.fit() is also required by protocol,even if stages are already trained.it returns a Pipeline Model object"
   ]
  },
  {
   "cell_type": "code",
   "execution_count": null,
   "id": "f56ead54",
   "metadata": {},
   "outputs": [],
   "source": [
    "model = pipeline.fit(data)"
   ]
  },
  {
   "cell_type": "code",
   "execution_count": null,
   "id": "85c48950",
   "metadata": {},
   "outputs": [],
   "source": [
    "result = model.transform(data)"
   ]
  },
  {
   "cell_type": "code",
   "execution_count": null,
   "id": "7bbf12ad",
   "metadata": {},
   "outputs": [],
   "source": [
    "result.show()"
   ]
  },
  {
   "cell_type": "markdown",
   "id": "e6946d39",
   "metadata": {},
   "source": [
    "Analysing each step of Pipeline"
   ]
  },
  {
   "cell_type": "code",
   "execution_count": null,
   "id": "c898b806",
   "metadata": {},
   "outputs": [],
   "source": [
    "result.select('sentence.result').show(truncate=False)"
   ]
  },
  {
   "cell_type": "code",
   "execution_count": null,
   "id": "aa2d503f",
   "metadata": {},
   "outputs": [],
   "source": [
    "result.select('checked.result').show(truncate=False)"
   ]
  },
  {
   "cell_type": "code",
   "execution_count": null,
   "id": "cdfef8f6",
   "metadata": {},
   "outputs": [],
   "source": [
    "result.select('ner.result').show(truncate=False)"
   ]
  },
  {
   "cell_type": "code",
   "execution_count": null,
   "id": "4f52f779",
   "metadata": {},
   "outputs": [],
   "source": [
    "result.select('ner.begin','ner.end').show(truncate=False)"
   ]
  },
  {
   "cell_type": "code",
   "execution_count": null,
   "id": "d2b98684",
   "metadata": {},
   "outputs": [],
   "source": [
    "result.select('chunk.result','chunk.begin','chunk.end').show(truncate=False)"
   ]
  },
  {
   "cell_type": "markdown",
   "id": "ed945320",
   "metadata": {},
   "source": [
    "7. Visualize results"
   ]
  },
  {
   "cell_type": "code",
   "execution_count": null,
   "id": "3354c92e",
   "metadata": {},
   "outputs": [],
   "source": [
    "NerVisualizer().display(\n",
    "    result = result.collect()[0],\n",
    "    label_col = 'ner_chunk',\n",
    "    document_col = 'document'\n",
    "  )"
   ]
  }
 ],
 "metadata": {
  "kernelspec": {
   "display_name": "Python 3 (ipykernel)",
   "language": "python",
   "name": "python3"
  },
  "language_info": {
   "codemirror_mode": {
    "name": "ipython",
    "version": 3
   },
   "file_extension": ".py",
   "mimetype": "text/x-python",
   "name": "python",
   "nbconvert_exporter": "python",
   "pygments_lexer": "ipython3",
   "version": "3.8.10"
  }
 },
 "nbformat": 4,
 "nbformat_minor": 5
}
